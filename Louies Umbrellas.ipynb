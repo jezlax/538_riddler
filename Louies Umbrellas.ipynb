{
 "cells": [
  {
   "cell_type": "markdown",
   "metadata": {},
   "source": [
    "## Riddler Express 12.7.18: Louie's Umbrellas \n",
    "\n",
    "From @FiveThirtyEight: https://fivethirtyeight.com/features/the-little-mathematically-determined-house-on-the-prairie/\n",
    "\n",
    "Louie walks to and from work every day. In his city, there is a 50 percent chance of rain each morning and an independent 40 percent chance each evening. His habit is to bring (and use) an umbrella if it’s raining when he leaves the house or office, but to leave them all behind if not. Louie owns three umbrellas.\n",
    "\n",
    "On Sunday night, two are with him at home and one is at his office. Assuming it never starts raining during his walk to his home or office, what is the probability that he makes it through the work week without getting wet?"
   ]
  },
  {
   "cell_type": "markdown",
   "metadata": {},
   "source": [
    "* Solution | Cory Jez | @BballMaths | github.com/jezlax \n",
    "\n",
    "Louie's problem is both a probabilistic (will it rain?) and a deterministic (the rules for what we do if it is/is not raining are fixed) one where he finds himself in certain states. \n",
    "\n",
    "In order to sovle this problem, we can simulate the a given week, with the rules outlined above and letting Louie take his umbrella if it is raining, which we model with a continuous random variable chosen between 0 and 1, with > 0.5 meaning rain in the AM and > 0.6 meaning rain in the PM. \n",
    "\n",
    "From there, we can simulate as many weeks as we want to see how often Louie gets rained on. We can also use this method to see how many weeks it takes to converge to the true probability, which are discussed in the charts below. "
   ]
  },
  {
   "cell_type": "code",
   "execution_count": 1,
   "metadata": {},
   "outputs": [],
   "source": [
    "#import necessary libraries\n",
    "import pandas as pd\n",
    "import numpy as np\n",
    "from scipy.stats import truncnorm\n",
    "from matplotlib import pyplot as plt\n",
    "from random import *\n",
    "from __future__ import division"
   ]
  },
  {
   "cell_type": "code",
   "execution_count": 43,
   "metadata": {},
   "outputs": [],
   "source": [
    "def run_week(home, work):\n",
    "    #initial states \n",
    "    loc = 0 #starting at home\n",
    "    hu = home #2 umbrellas at home \n",
    "    wu = work #1 umbrella at wor\n",
    "    wet = 0 #will set to 1 if we get wet \n",
    "    \n",
    "    for i in range(0,5):\n",
    "    ## MORNING COMMUTE ##\n",
    "        if random() >= 0.5:\n",
    "        #does Louie have an umbrella?\n",
    "            if hu > 0:\n",
    "            # if he does: go to work, subtract a home umbrella, add a work umbrella\n",
    "                hu-=1\n",
    "                wu+=1\n",
    "                loc+=1\n",
    "            else:\n",
    "                #if he doesn't, he gets wet!\n",
    "                wet+=1\n",
    "        else:\n",
    "            #if its not raining, just go to work!\n",
    "            loc+=1\n",
    "        \n",
    "        ## EVENING COMMUTE ##\n",
    "        if random() >= 0.6:\n",
    "        #does Louie have an umbrella?\n",
    "            if wu > 0:\n",
    "                # if he does: go home, subtract a work umbrella, add a home umbrella\n",
    "                wu-=1\n",
    "                hu+=1\n",
    "                loc-=1\n",
    "            else:\n",
    "                #if i don't i get wet!\n",
    "                wet+=1\n",
    "        else:\n",
    "            #if its not raining, just go home!\n",
    "            loc-=1\n",
    "    \n",
    "    return wet"
   ]
  },
  {
   "cell_type": "code",
   "execution_count": 44,
   "metadata": {},
   "outputs": [],
   "source": [
    "wet_weeks = []\n",
    "for i in range(0,50000):\n",
    "    if run_week(2,1) > 0:\n",
    "        wet_weeks.append(1)\n",
    "    else:\n",
    "        wet_weeks.append(0)"
   ]
  },
  {
   "cell_type": "code",
   "execution_count": 15,
   "metadata": {},
   "outputs": [],
   "source": [
    "#graph it out\n",
    "iters = []\n",
    "for i in range(1,50001):\n",
    "    iters.append(i)\n",
    "\n",
    "tot = list(np.cumsum(wet_weeks))\n",
    "pct_wet = [t / i for t,i in zip(tot, iters)]"
   ]
  },
  {
   "cell_type": "markdown",
   "metadata": {},
   "source": [
    "### SOLUTIONS\n",
    "Now we've run 50k weeks (yes, Louie is immortal yet cannot seem to save enough for retirement), and we can look at two things:\n",
    "1) How often does Louie get wet (the original question)\n",
    "2) How many weeks does it take to know the true probability of Louie getting wet \n",
    "3) How many umbrellas does Louie need (at a minimum at each location to guarantee that he never gets wet)? "
   ]
  },
  {
   "cell_type": "markdown",
   "metadata": {},
   "source": [
    "#### 1: What are the odds that Louie gets wet? \n",
    "After 50,000 weeks, Louie gets wet 30.84% of the time! Not that bad!"
   ]
  },
  {
   "cell_type": "code",
   "execution_count": 17,
   "metadata": {},
   "outputs": [
    {
     "data": {
      "text/plain": [
       "0.30844"
      ]
     },
     "execution_count": 17,
     "metadata": {},
     "output_type": "execute_result"
    }
   ],
   "source": [
    "pct_wet[-1]"
   ]
  },
  {
   "cell_type": "markdown",
   "metadata": {},
   "source": [
    "#### 2: How many weeks does it take to converge to this value?"
   ]
  },
  {
   "cell_type": "code",
   "execution_count": 33,
   "metadata": {},
   "outputs": [
    {
     "data": {
      "image/png": "[encoded data removed]",
      "text/plain": [
       "<Figure size 864x576 with 1 Axes>"
      ]
     },
     "metadata": {
      "needs_background": "light"
     },
     "output_type": "display_data"
    }
   ],
   "source": [
    "# Data for plotting\n",
    "y = pct_wet\n",
    "x = range(1,50001)\n",
    "\n",
    "fig, ax = plt.subplots()\n",
    "ax.plot(x,y)\n",
    "\n",
    "ax.set(xlabel='Number of Weeks', ylabel='Running % of Wet WEeks',\n",
    "       title='Cumulative % of Weeks that Louie Gets Wet')\n",
    "ax.grid()\n",
    "fig.savefig(\"test.png\")\n",
    "fig.set_figwidth(12)\n",
    "fig.set_figheight(8)\n",
    "plt.show()"
   ]
  },
  {
   "cell_type": "markdown",
   "metadata": {},
   "source": [
    "We can still see a bit of instability in Louie's wet rate through the first 1000 weeks or so, infact we see the following wet rates at each increment. "
   ]
  },
  {
   "cell_type": "code",
   "execution_count": 46,
   "metadata": {},
   "outputs": [
    {
     "name": "stdout",
     "output_type": "stream",
     "text": [
      "Louie gets wet 22.77% of the time after 100 weeks\n",
      "Louie gets wet 29.88% of the time after 250 weeks\n",
      "Louie gets wet 30.94% of the time after 500 weeks\n",
      "Louie gets wet 29.47% of the time after 1000 weeks\n",
      "Louie gets wet 31.19% of the time after 2500 weeks\n",
      "Louie gets wet 30.83% of the time after 5000 weeks\n"
     ]
    }
   ],
   "source": [
    "print \"Louie gets wet \" + str(round(pct_wet[100],4)*100) + \"% of the time after 100 weeks\"\n",
    "print \"Louie gets wet \" + str(round(pct_wet[250],4)*100) + \"% of the time after 250 weeks\"\n",
    "print \"Louie gets wet \" + str(round(pct_wet[500],4)*100) + \"% of the time after 500 weeks\"\n",
    "print \"Louie gets wet \" + str(round(pct_wet[1000],4)*100) + \"% of the time after 1000 weeks\"\n",
    "print \"Louie gets wet \" + str(round(pct_wet[2500],4)*100) + \"% of the time after 2500 weeks\"\n",
    "print \"Louie gets wet \" + str(round(pct_wet[5000],4)*100) + \"% of the time after 5000 weeks\""
   ]
  },
  {
   "cell_type": "markdown",
   "metadata": {},
   "source": [
    "So here we can see that it takes up to 5000 weeks (96 years!) for Louie to figure out that his true probaility of getting wet is 30.8%!"
   ]
  },
  {
   "cell_type": "markdown",
   "metadata": {},
   "source": [
    "#### 3: How many umbrellas does Louie need to ensure he never gets wet?\n",
    "We can take the same function above, but iterate over values for home and work umbrellas to see what combinations give us scenarios where Louie never gets wet over the 50,000 weeks (960 years) of commuting to work."
   ]
  },
  {
   "cell_type": "code",
   "execution_count": 58,
   "metadata": {},
   "outputs": [],
   "source": [
    "h_umb = range(1,6)\n",
    "w_umb = range(1,6)"
   ]
  },
  {
   "cell_type": "code",
   "execution_count": 59,
   "metadata": {},
   "outputs": [
    {
     "name": "stdout",
     "output_type": "stream",
     "text": [
      "With 1 umbrellas at home and 1 umbrellas at work, Louie gets wet 28592 weeks out of 50,000\n",
      "With 1 umbrellas at home and 2 umbrellas at work, Louie gets wet 23237 weeks out of 50,000\n",
      "With 1 umbrellas at home and 3 umbrellas at work, Louie gets wet 21976 weeks out of 50,000\n",
      "With 1 umbrellas at home and 4 umbrellas at work, Louie gets wet 21479 weeks out of 50,000\n",
      "With 1 umbrellas at home and 5 umbrellas at work, Louie gets wet 21688 weeks out of 50,000\n",
      "With 2 umbrellas at home and 1 umbrellas at work, Louie gets wet 15205 weeks out of 50,000\n",
      "With 2 umbrellas at home and 2 umbrellas at work, Louie gets wet 9743 weeks out of 50,000\n",
      "With 2 umbrellas at home and 3 umbrellas at work, Louie gets wet 8249 weeks out of 50,000\n",
      "With 2 umbrellas at home and 4 umbrellas at work, Louie gets wet 8207 weeks out of 50,000\n",
      "With 2 umbrellas at home and 5 umbrellas at work, Louie gets wet 8182 weeks out of 50,000\n",
      "With 3 umbrellas at home and 1 umbrellas at work, Louie gets wet 9084 weeks out of 50,000\n",
      "With 3 umbrellas at home and 2 umbrellas at work, Louie gets wet 3687 weeks out of 50,000\n",
      "With 3 umbrellas at home and 3 umbrellas at work, Louie gets wet 2082 weeks out of 50,000\n",
      "With 3 umbrellas at home and 4 umbrellas at work, Louie gets wet 1924 weeks out of 50,000\n",
      "With 3 umbrellas at home and 5 umbrellas at work, Louie gets wet 1919 weeks out of 50,000\n",
      "With 4 umbrellas at home and 1 umbrellas at work, Louie gets wet 7367 weeks out of 50,000\n",
      "With 4 umbrellas at home and 2 umbrellas at work, Louie gets wet 1842 weeks out of 50,000\n",
      "With 4 umbrellas at home and 3 umbrellas at work, Louie gets wet 465 weeks out of 50,000\n",
      "With 4 umbrellas at home and 4 umbrellas at work, Louie gets wet 228 weeks out of 50,000\n",
      "With 4 umbrellas at home and 5 umbrellas at work, Louie gets wet 184 weeks out of 50,000\n",
      "With 5 umbrellas at home and 1 umbrellas at work, Louie gets wet 7333 weeks out of 50,000\n",
      "With 5 umbrellas at home and 2 umbrellas at work, Louie gets wet 1666 weeks out of 50,000\n",
      "With 5 umbrellas at home and 3 umbrellas at work, Louie gets wet 232 weeks out of 50,000\n",
      "With 5 umbrellas at home and 4 umbrellas at work, Louie gets wet 17 weeks out of 50,000\n",
      "With 5 umbrellas at home and 5 umbrellas at work, Louie gets wet 0 weeks out of 50,000\n"
     ]
    }
   ],
   "source": [
    "for h in h_umb:\n",
    "    for w in w_umb:\n",
    "        wet_weeks2 = []\n",
    "        for i in range(0,50000):\n",
    "            if run_week(h,w) > 0:\n",
    "                wet_weeks2.append(1)\n",
    "            else:\n",
    "                wet_weeks2.append(0)\n",
    "\n",
    "        print \"With \" +str(h) +\" umbrellas at home and \" +str(w) + \" umbrellas at work, Louie gets wet \" + str(sum(wet_weeks2)) + \" weeks out of 50,000\""
   ]
  },
  {
   "cell_type": "markdown",
   "metadata": {},
   "source": [
    "So - we can see here, that the ONLY way for Louie to guarantee that he NEVER gets wet for a given week is to keep 5 umbrellas at home and 5 umbrellas at his office! Having 5 at home and 4 at work still gets Louie wet 17 weeks out of 50,000!"
   ]
  }
 ],
 "metadata": {
  "kernelspec": {
   "display_name": "Python 2",
   "language": "python",
   "name": "python2"
  },
  "language_info": {
   "codemirror_mode": {
    "name": "ipython",
    "version": 2
   },
   "file_extension": ".py",
   "mimetype": "text/x-python",
   "name": "python",
   "nbconvert_exporter": "python",
   "pygments_lexer": "ipython2",
   "version": "2.7.15"
  }
 },
 "nbformat": 4,
 "nbformat_minor": 2
}
